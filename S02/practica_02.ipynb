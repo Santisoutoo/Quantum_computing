{
 "cells": [
  {
   "cell_type": "markdown",
   "id": "0915ed18",
   "metadata": {},
   "source": [
    "# La moneda perfecta"
   ]
  },
  {
   "cell_type": "code",
   "execution_count": 167,
   "id": "b4b304b0",
   "metadata": {},
   "outputs": [],
   "source": [
    "from pyquil import get_qc, Program\n",
    "from pyquil.gates import H, MEASURE\n",
    "from pyquil.quil import address_qubits\n",
    "from pyquil.quilbase import Declare"
   ]
  },
  {
   "cell_type": "markdown",
   "id": "1cbccec2",
   "metadata": {},
   "source": [
    "## Declarativa"
   ]
  },
  {
   "cell_type": "code",
   "execution_count": 54,
   "id": "0914fe7c",
   "metadata": {},
   "outputs": [
    {
     "name": "stdout",
     "output_type": "stream",
     "text": [
      "CARA\n"
     ]
    }
   ],
   "source": [
    "prog = Program(\n",
    "    Declare(\"ro\", \"BIT\", 1),\n",
    "    H(0),\n",
    "    MEASURE(0, (\"ro\", 0)),        \n",
    "        \n",
    ").wrap_in_numshots_loop(1)  \n",
    "\n",
    "qvm = get_qc('9q-square-qvm')\n",
    "result = qvm.run(qvm.compile(prog))\n",
    "measurements = result.readout_data['ro']\n",
    "\n",
    "if measurements == 0:\n",
    "    print(\"CRUZ\")\n",
    "else:\n",
    "    print(\"CARA\")"
   ]
  },
  {
   "cell_type": "markdown",
   "id": "ad690380",
   "metadata": {},
   "source": [
    "## Funcional"
   ]
  },
  {
   "cell_type": "code",
   "execution_count": 55,
   "id": "ed258937",
   "metadata": {},
   "outputs": [],
   "source": [
    "def declare_memory(program, register_name, register_type, size):\n",
    "\n",
    "    program += Declare(register_name, register_type, size)\n",
    "    return program"
   ]
  },
  {
   "cell_type": "code",
   "execution_count": 56,
   "id": "f241e375",
   "metadata": {},
   "outputs": [],
   "source": [
    "def measure_qubit(program, qubit, register_name, register_position):\n",
    "\n",
    "    program += MEASURE(qubit, (register_name, register_position))\n",
    "    return program"
   ]
  },
  {
   "cell_type": "code",
   "execution_count": 57,
   "id": "a5267363",
   "metadata": {},
   "outputs": [],
   "source": [
    "def create_quantum_coin():\n",
    "    \n",
    "    prog = Program()    \n",
    "    prog = declare_memory(prog, \"ro\", \"BIT\", 1)\n",
    "    prog += H(0)\n",
    "    prog = measure_qubit(prog, 0, \"ro\", 0)\n",
    "    \n",
    "    return prog\n",
    "\n",
    "def interpret_result(bit_value):\n",
    "    \"\"\"Interpreta el resultado como cara o cruz\"\"\"\n",
    "    if bit_value == 0:\n",
    "        return \"Cara\"\n",
    "    else:\n",
    "        return \"Cruz\""
   ]
  },
  {
   "cell_type": "code",
   "execution_count": 144,
   "id": "d291e62b",
   "metadata": {},
   "outputs": [
    {
     "name": "stdout",
     "output_type": "stream",
     "text": [
      "Resultado: [[0]]\n",
      "Moneda: Cara\n"
     ]
    }
   ],
   "source": [
    "program = create_quantum_coin()\n",
    "\n",
    "qvm = get_qc('9q-square-qvm')\n",
    "result = qvm.run(program)\n",
    "\n",
    "bit_result = result.readout_data['ro']\n",
    "coin_result = interpret_result(bit_result)\n",
    "\n",
    "print(f\"Resultado: {bit_result}\")\n",
    "print(f\"Moneda: {coin_result}\")"
   ]
  },
  {
   "cell_type": "markdown",
   "id": "497c9a2d",
   "metadata": {},
   "source": [
    "## Ejercicio 2\n",
    "\n",
    "Supongamos ahora que tenemos una competición entre dos usuarios A (gana cara) y B (gana cruz). \n",
    "En ella, van a lanzar una moneda al aire 50 veces, y nos interesa saber cuál de ellos gana. ¿Cómo \n",
    "debemos modificar el programa anterior para añadir el número de iteraciones e indicar quién gana? \n",
    "¿Cómo  iteramos  sobre  el  resultado?  ¿Qué  pasa  si  en  vez  de  modificar  el  número  de  iteraciones \n",
    "ejecuto múltiples veces el programa (qvm.run)?"
   ]
  },
  {
   "cell_type": "code",
   "execution_count": 147,
   "id": "bfc1940b",
   "metadata": {},
   "outputs": [
    {
     "name": "stdout",
     "output_type": "stream",
     "text": [
      "CARA: 30\n",
      "CRUZ: 20\n",
      "CARA GANADOR! CON 30 VECES ACERTADAS\n"
     ]
    }
   ],
   "source": [
    "TIRADAS = 50\n",
    "program = create_quantum_coin().wrap_in_numshots_loop(TIRADAS)\n",
    "\n",
    "qvm = get_qc('9q-square-qvm')\n",
    "result = qvm.run(program)\n",
    "\n",
    "bit_results = result.readout_data['ro'].flatten()\n",
    "CARA = sum(1 for bit in bit_results if bit == 0)\n",
    "CRUZ = TIRADAS - CARA\n",
    "\n",
    "print(f\"CARA: {CARA}\")\n",
    "print(f\"CRUZ: {CRUZ}\")\n",
    "\n",
    "if CARA > CRUZ:\n",
    "    print(f\"CARA GANADOR! CON {CARA} VECES ACERTADAS\")\n",
    "elif CARA < CRUZ:\n",
    "    print(f\"CRUZ GANADOR CON {CRUZ} VECES ACERTADAS\")\n",
    "else:\n",
    "    print(\"EMPATE!\")\n"
   ]
  },
  {
   "cell_type": "code",
   "execution_count": 152,
   "id": "162cee8a",
   "metadata": {},
   "outputs": [
    {
     "name": "stdout",
     "output_type": "stream",
     "text": [
      "CARA: 28\n",
      "CRUZ: 22\n",
      "CARA GANADOR! CON 28 VECES ACERTADAS\n"
     ]
    }
   ],
   "source": [
    "num_ejecuciones = 50\n",
    "resultados = []\n",
    "\n",
    "for _ in range(num_ejecuciones):\n",
    "    result = qvm.run(program)\n",
    "    bit_result = result.readout_data['ro'][0][0]\n",
    "    resultados.append(bit_result)\n",
    "\n",
    "CARA = sum(1 for bit in resultados if bit == 0)\n",
    "CRUZ = num_ejecuciones - CARA\n",
    "\n",
    "print(f\"CARA: {CARA}\")\n",
    "print(f\"CRUZ: {CRUZ}\")\n",
    "\n",
    "if CARA > CRUZ:\n",
    "    print(f\"CARA GANADOR! CON {CARA} VECES ACERTADAS\")\n",
    "elif CARA < CRUZ:\n",
    "    print(f\"CRUZ GANADOR CON {CRUZ} VECES ACERTADAS\")\n",
    "else:\n",
    "    print(\"EMPATE!\")"
   ]
  },
  {
   "cell_type": "markdown",
   "id": "dfbafefd",
   "metadata": {},
   "source": [
    "## Ejercicio 3\n",
    "Ahora, vamos a extender el programa, participando los mismos dos competidores, pero con cuatro \n",
    "monedas distintas, lanzando las monedas 50 veces. Nos interesa conocer las medidas de todas las \n",
    "monedas para declarar al ganador. Para ello usaremos dos técnicas distintas, primero modificando el \n",
    "registro  para  almacenar  los  cuatro  valores  por  separado,  y  posteriormente  usando  la  función \n",
    "measure_all. ¿Cómo modificarías el programa en ambos casos?"
   ]
  },
  {
   "cell_type": "markdown",
   "id": "4ad6e03a",
   "metadata": {},
   "source": [
    "### Declarativo"
   ]
  },
  {
   "cell_type": "code",
   "execution_count": 160,
   "id": "460a20cb",
   "metadata": {},
   "outputs": [],
   "source": [
    "from dataclasses import dataclass"
   ]
  },
  {
   "cell_type": "code",
   "execution_count": 163,
   "id": "3bd47bf7",
   "metadata": {},
   "outputs": [],
   "source": [
    "@dataclass\n",
    "class Monedas:\n",
    "    \"\"\"Almacena la cantidad de caras que salen en n tiradas\"\"\"\n",
    "    moneda1: int = 0\n",
    "    moneda2: int = 0 \n",
    "    moneda3: int = 0\n",
    "    moneda4: int = 0"
   ]
  },
  {
   "cell_type": "code",
   "execution_count": 164,
   "id": "7d22432e",
   "metadata": {},
   "outputs": [
    {
     "name": "stdout",
     "output_type": "stream",
     "text": [
      "[[0 0 1 1]\n",
      " [1 0 0 0]\n",
      " [1 1 0 0]\n",
      " [1 1 1 0]\n",
      " [0 1 0 1]\n",
      " [0 0 1 0]\n",
      " [0 1 0 0]\n",
      " [0 0 1 0]\n",
      " [1 1 0 0]\n",
      " [1 1 0 1]\n",
      " [0 1 1 1]\n",
      " [1 0 0 0]\n",
      " [0 1 0 0]\n",
      " [1 0 1 1]\n",
      " [1 0 1 0]\n",
      " [0 1 0 1]\n",
      " [0 0 0 1]\n",
      " [0 1 0 1]\n",
      " [1 0 0 0]\n",
      " [0 1 0 0]\n",
      " [0 1 0 1]\n",
      " [0 0 1 0]\n",
      " [1 1 1 1]\n",
      " [0 1 0 1]\n",
      " [1 0 1 1]\n",
      " [1 1 0 0]\n",
      " [1 0 1 0]\n",
      " [1 1 0 0]\n",
      " [0 0 1 1]\n",
      " [0 1 0 1]\n",
      " [1 0 1 0]\n",
      " [1 1 1 0]\n",
      " [1 1 1 0]\n",
      " [0 0 1 1]\n",
      " [1 1 0 1]\n",
      " [0 1 1 1]\n",
      " [0 0 1 0]\n",
      " [1 1 0 1]\n",
      " [1 1 1 1]\n",
      " [0 1 0 1]\n",
      " [0 0 0 0]\n",
      " [0 1 1 0]\n",
      " [0 1 1 1]\n",
      " [0 0 0 0]\n",
      " [0 0 1 0]\n",
      " [1 0 1 0]\n",
      " [1 0 0 0]\n",
      " [1 1 0 1]\n",
      " [0 0 0 1]\n",
      " [1 0 1 0]]\n"
     ]
    }
   ],
   "source": [
    "prog = Program(\n",
    "    Declare(\"ro\", \"BIT\", 4),\n",
    "    H(0),\n",
    "    H(1),\n",
    "    H(2),\n",
    "    H(3),\n",
    "    MEASURE(0, (\"ro\", 0)),\n",
    "    MEASURE(1, (\"ro\", 1)),\n",
    "    MEASURE(2, (\"ro\", 2)),\n",
    "    MEASURE(3, (\"ro\", 3)),        \n",
    "        \n",
    ").wrap_in_numshots_loop(50)  \n",
    "\n",
    "qvm = get_qc('9q-square-qvm')\n",
    "result = qvm.run(qvm.compile(prog))\n",
    "measurements = result.readout_data['ro']\n",
    "monedas = Monedas(\n",
    "    moneda1=sum(measurements[:, 0] == 0),\n",
    "    moneda2=sum(measurements[:, 1] == 0),\n",
    "    moneda3=sum(measurements[:, 2] == 0),\n",
    "    moneda4=sum(measurements[:, 3] == 0),\n",
    ")\n",
    "print(measurements)"
   ]
  },
  {
   "cell_type": "markdown",
   "id": "3b0f4589",
   "metadata": {},
   "source": [
    "### Resultados"
   ]
  },
  {
   "cell_type": "code",
   "execution_count": 165,
   "id": "a5f17d32",
   "metadata": {},
   "outputs": [
    {
     "name": "stdout",
     "output_type": "stream",
     "text": [
      "=== RESULTADOS POR MONEDA ===\n",
      "Moneda 1 - Caras: 26, Cruces: 24\n",
      "Moneda 2 - Caras: 23, Cruces: 27\n",
      "Moneda 3 - Caras: 26, Cruces: 24\n",
      "Moneda 4 - Caras: 27, Cruces: 23\n",
      "\n",
      "=== RESULTADO FINAL ===\n",
      "TOTAL - Caras (A): 102, Cruces (B): 98\n",
      "🏆 ¡GANADOR: A (Caras)!\n"
     ]
    }
   ],
   "source": [
    "print(\"=== RESULTADOS POR MONEDA ===\")\n",
    "print(f\"Moneda 1 - Caras: {monedas.moneda1}, Cruces: {50 - monedas.moneda1}\")\n",
    "print(f\"Moneda 2 - Caras: {monedas.moneda2}, Cruces: {50 - monedas.moneda2}\")\n",
    "print(f\"Moneda 3 - Caras: {monedas.moneda3}, Cruces: {50 - monedas.moneda3}\")\n",
    "print(f\"Moneda 4 - Caras: {monedas.moneda4}, Cruces: {50 - monedas.moneda4}\")\n",
    "\n",
    "# Calcular totales y ganador\n",
    "total_caras = monedas.moneda1 + monedas.moneda2 + monedas.moneda3 + monedas.moneda4\n",
    "total_cruces = 200 - total_caras\n",
    "\n",
    "print(f\"\\n=== RESULTADO FINAL ===\")\n",
    "print(f\"TOTAL - Caras (A): {total_caras}, Cruces (B): {total_cruces}\")\n",
    "\n",
    "if total_caras > total_cruces:\n",
    "    print(\"🏆 ¡GANADOR: A (Caras)!\")\n",
    "elif total_cruces > total_caras:\n",
    "    print(\"🏆 ¡GANADOR: B (Cruces)!\")\n",
    "else:\n",
    "    print(\"🤝 ¡EMPATE!\")"
   ]
  },
  {
   "cell_type": "markdown",
   "id": "9d1089e8",
   "metadata": {},
   "source": [
    "#### Measure all"
   ]
  },
  {
   "cell_type": "code",
   "execution_count": null,
   "id": "0f07e4d6",
   "metadata": {},
   "outputs": [],
   "source": [
    "def crear_programa_cuatro_monedas():\n",
    "    prog = Program()\n",
    "    prog = declare_memory(prog, \"ro\", \"BIT\", 4)\n",
    "    \n",
    "    for qubit in range(4):\n",
    "        prog += H(qubit)\n",
    "    \n",
    "    qubits_a_medir = [0, 1, 2, 3]\n",
    "    for i, qubit in enumerate(qubits_a_medir):\n",
    "        prog = measure_qubit(prog, qubit, \"ro\", i)\n",
    "    \n",
    "    return prog"
   ]
  },
  {
   "cell_type": "code",
   "execution_count": null,
   "id": "e9a562ea",
   "metadata": {},
   "outputs": [],
   "source": [
    "def medir_todos_los_qubits(programa, qubits, nombre_registro):\n",
    "    \"\"\"Mide todos los qubits especificados y los almacena en el registro\"\"\"\n",
    "    for i, qubit in enumerate(qubits):\n",
    "        programa = measure_qubit(programa, qubit, nombre_registro, i)\n",
    "    return programa"
   ]
  },
  {
   "cell_type": "code",
   "execution_count": null,
   "id": "0754c3a0",
   "metadata": {},
   "outputs": [],
   "source": [
    "def competicion_cuatro_monedas():\n",
    "    prog = Program()\n",
    "    prog = declare_memory(prog, \"ro\", \"BIT\", 4)\n",
    "    \n",
    "    for qubit in range(4):\n",
    "        prog += H(qubit)\n",
    "    \n",
    "    prog = medir_todos_los_qubits(prog, [0, 1, 2, 3], \"ro\")\n",
    "    \n",
    "    return prog.wrap_in_numshots_loop(50)"
   ]
  },
  {
   "cell_type": "code",
   "execution_count": null,
   "id": "38f8eca4",
   "metadata": {},
   "outputs": [],
   "source": [
    "programa = competicion_cuatro_monedas()\n",
    "qvm = get_qc('9q-square-qvm')\n",
    "resultado = qvm.run(programa)\n",
    "mediciones = resultado.readout_data['ro']"
   ]
  },
  {
   "cell_type": "code",
   "execution_count": 169,
   "id": "b580304f",
   "metadata": {},
   "outputs": [
    {
     "name": "stdout",
     "output_type": "stream",
     "text": [
      "=== ANÁLISIS FUNCIONAL CON DATACLASS ===\n",
      "Moneda 1 - Caras: 20, Cruces: 30\n",
      "Moneda 2 - Caras: 28, Cruces: 22\n",
      "Moneda 3 - Caras: 28, Cruces: 22\n",
      "Moneda 4 - Caras: 23, Cruces: 27\n",
      "\n",
      "=== RESULTADO FINAL ===\n",
      "TOTAL - Caras: 99, Cruces: 101\n",
      "🏆 GANADOR: B (Cruces)\n"
     ]
    }
   ],
   "source": [
    "monedas = Monedas(\n",
    "    moneda1=sum(mediciones[:, 0] == 0),\n",
    "    moneda2=sum(mediciones[:, 1] == 0),\n",
    "    moneda3=sum(mediciones[:, 2] == 0),\n",
    "    moneda4=sum(mediciones[:, 3] == 0),\n",
    ")\n",
    "\n",
    "def determinar_ganador_funcional(monedas: Monedas):\n",
    "    \"\"\"Determina el ganador basado en el conteo total usando dataclass\"\"\"\n",
    "    total_caras = monedas.moneda1 + monedas.moneda2 + monedas.moneda3 + monedas.moneda4\n",
    "    total_cruces = 200 - total_caras\n",
    "    \n",
    "    if total_caras > total_cruces:\n",
    "        return \"A (Caras)\", total_caras, total_cruces\n",
    "    elif total_cruces > total_caras:\n",
    "        return \"B (Cruces)\", total_caras, total_cruces\n",
    "    else:\n",
    "        return \"EMPATE\", total_caras, total_cruces\n",
    "\n",
    "# Mostrar resultados\n",
    "ganador, total_caras, total_cruces = determinar_ganador_funcional(monedas)\n",
    "\n",
    "print(\"=== ANÁLISIS FUNCIONAL CON DATACLASS ===\")\n",
    "print(f\"Moneda 1 - Caras: {monedas.moneda1}, Cruces: {50 - monedas.moneda1}\")\n",
    "print(f\"Moneda 2 - Caras: {monedas.moneda2}, Cruces: {50 - monedas.moneda2}\")\n",
    "print(f\"Moneda 3 - Caras: {monedas.moneda3}, Cruces: {50 - monedas.moneda3}\")\n",
    "print(f\"Moneda 4 - Caras: {monedas.moneda4}, Cruces: {50 - monedas.moneda4}\")\n",
    "\n",
    "print(f\"\\n=== RESULTADO FINAL ===\")\n",
    "print(f\"TOTAL - Caras: {total_caras}, Cruces: {total_cruces}\")\n",
    "print(f\"🏆 GANADOR: {ganador}\")"
   ]
  }
 ],
 "metadata": {
  "kernelspec": {
   "display_name": "cc",
   "language": "python",
   "name": "python3"
  },
  "language_info": {
   "codemirror_mode": {
    "name": "ipython",
    "version": 3
   },
   "file_extension": ".py",
   "mimetype": "text/x-python",
   "name": "python",
   "nbconvert_exporter": "python",
   "pygments_lexer": "ipython3",
   "version": "3.11.5"
  }
 },
 "nbformat": 4,
 "nbformat_minor": 5
}
