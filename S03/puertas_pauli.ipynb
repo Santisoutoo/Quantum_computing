{
 "cells": [
  {
   "cell_type": "markdown",
   "id": "924d0754",
   "metadata": {},
   "source": [
    "# Práctica de Puertas de Pauli\n",
    "\n",
    "## Objetivo\n",
    "Explicar el funcionamiento de las puertas de Pauli (X, Y, Z) y cómo se pueden usar con PyQuil.\n",
    "\n",
    "## Descripción\n",
    "Las puertas de Pauli son un conjunto de tres puertas fundamentales de la mecánica cuántica:\n",
    "- **Puerta X**: Equivalente cuántico de la puerta NOT clásica (rotación 180° en eje X)\n",
    "- **Puerta Z**: Cambia la fase del estado |1⟩ (rotación 180° en eje Z)\n",
    "- **Puerta Y**: Combinación de cambio de estado y fase (rotación 180° en eje Y)"
   ]
  },
  {
   "cell_type": "code",
   "execution_count": 4,
   "id": "f1e37116",
   "metadata": {},
   "outputs": [],
   "source": [
    "# Importar librerías necesarias\n",
    "from pyquil import Program\n",
    "from pyquil.api import WavefunctionSimulator\n",
    "from pyquil.gates import I, X, Y, Z\n",
    "import numpy as np"
   ]
  },
  {
   "cell_type": "code",
   "execution_count": null,
   "id": "7d7f80a6",
   "metadata": {},
   "outputs": [],
   "source": [
    "wf_sim = WavefunctionSimulator()\n",
    "\n",
    "def mostrar_estado(programa, titulo):\n",
    "    \"\"\"Función auxiliar para mostrar el estado cuántico\"\"\"\n",
    "    wavefunction = wf_sim.wavefunction(programa)\n",
    "    print(f\"{titulo}:\")\n",
    "    print(f\"Amplitudes: {wavefunction.amplitudes}\")\n",
    "    print(f\"Estado: {wavefunction}\")\n",
    "    print(\"-\" * 50)"
   ]
  },
  {
   "cell_type": "markdown",
   "id": "59629005",
   "metadata": {},
   "source": [
    "## 1. Pruebas de la Puerta X (NOT Cuántica)\n",
    "\n",
    "La puerta X es equivalente a la puerta NOT clásica. Realiza una rotación de 180° alrededor del eje X de la esfera de Bloch:\n",
    "- |0⟩ → |1⟩\n",
    "- |1⟩ → |0⟩"
   ]
  },
  {
   "cell_type": "code",
   "execution_count": null,
   "id": "fca12269",
   "metadata": {},
   "outputs": [
    {
     "name": "stdout",
     "output_type": "stream",
     "text": [
      "=== PUERTA X CON ESTADO INICIAL |0⟩ ===\n",
      "Estado inicial |0⟩:\n",
      "Amplitudes: [1.+0.j 0.+0.j]\n",
      "Estado: (1+0j)|0>\n",
      "--------------------------------------------------\n",
      "Estado después de aplicar X:\n",
      "Amplitudes: [0.+0.j 1.+0.j]\n",
      "Estado: (1+0j)|1>\n",
      "--------------------------------------------------\n"
     ]
    }
   ],
   "source": [
    "# Puerta X con estado inicial |0⟩\n",
    "print(\"=== PUERTA X CON ESTADO INICIAL |0⟩ ===\")\n",
    "\n",
    "prog_x_0 = Program(I(0))\n",
    "\n",
    "# Mostrar estado inicial\n",
    "mostrar_estado(prog_x_0, \"Estado inicial |0⟩\")\n",
    "\n",
    "# Añadir puerta X usando inst()\n",
    "prog_x_0.inst(X(0))\n",
    "\n",
    "# Mostrar estado después de aplicar X\n",
    "mostrar_estado(prog_x_0, \"Estado después de aplicar X\")"
   ]
  },
  {
   "cell_type": "code",
   "execution_count": 7,
   "id": "6d1176f7",
   "metadata": {},
   "outputs": [
    {
     "name": "stdout",
     "output_type": "stream",
     "text": [
      "=== PUERTA X CON ESTADO INICIAL |1⟩ ===\n",
      "Estado inicial |1⟩:\n",
      "Amplitudes: [0.+0.j 1.+0.j]\n",
      "Estado: (1+0j)|1>\n",
      "--------------------------------------------------\n",
      "Estado después de aplicar X:\n",
      "Amplitudes: [1.+0.j 0.+0.j]\n",
      "Estado: (1+0j)|0>\n",
      "--------------------------------------------------\n"
     ]
    }
   ],
   "source": [
    "# Puerta X con estado inicial |1⟩\n",
    "print(\"=== PUERTA X CON ESTADO INICIAL |1⟩ ===\")\n",
    "\n",
    "# Programa con estado inicial |1⟩ (aplicamos X para ir de |0⟩ a |1⟩)\n",
    "prog_x_1 = Program(X(0))  # X para crear |1⟩\n",
    "\n",
    "# Mostrar estado inicial |1⟩\n",
    "mostrar_estado(prog_x_1, \"Estado inicial |1⟩\")\n",
    "\n",
    "# Añadir otra puerta X usando inst()\n",
    "prog_x_1.inst(X(0))\n",
    "\n",
    "# Mostrar estado después de aplicar X\n",
    "mostrar_estado(prog_x_1, \"Estado después de aplicar X\")"
   ]
  },
  {
   "cell_type": "markdown",
   "id": "5071af23",
   "metadata": {},
   "source": [
    "## 2. Pruebas de la Puerta Z (Cambio de Fase)\n",
    "\n",
    "La puerta Z realiza una rotación de 180° alrededor del eje Z de la esfera de Bloch:\n",
    "- |0⟩ → |0⟩ (sin cambio)\n",
    "- |1⟩ → -|1⟩ (cambio de fase)"
   ]
  },
  {
   "cell_type": "code",
   "execution_count": 8,
   "id": "ba3f6b10",
   "metadata": {},
   "outputs": [
    {
     "name": "stdout",
     "output_type": "stream",
     "text": [
      "=== PUERTA Z CON ESTADO INICIAL |0⟩ ===\n",
      "Estado inicial |0⟩:\n",
      "Amplitudes: [1.+0.j 0.+0.j]\n",
      "Estado: (1+0j)|0>\n",
      "--------------------------------------------------\n",
      "Estado después de aplicar Z:\n",
      "Amplitudes: [1.+0.j 0.+0.j]\n",
      "Estado: (1+0j)|0>\n",
      "--------------------------------------------------\n"
     ]
    }
   ],
   "source": [
    "# Puerta Z con estado inicial |0⟩\n",
    "print(\"=== PUERTA Z CON ESTADO INICIAL |0⟩ ===\")\n",
    "\n",
    "# Programa con estado inicial |0⟩\n",
    "prog_z_0 = Program(I(0))\n",
    "\n",
    "# Mostrar estado inicial\n",
    "mostrar_estado(prog_z_0, \"Estado inicial |0⟩\")\n",
    "\n",
    "# Añadir puerta Z usando inst()\n",
    "prog_z_0.inst(Z(0))\n",
    "\n",
    "# Mostrar estado después de aplicar Z\n",
    "mostrar_estado(prog_z_0, \"Estado después de aplicar Z\")"
   ]
  },
  {
   "cell_type": "code",
   "execution_count": 9,
   "id": "82aea846",
   "metadata": {},
   "outputs": [
    {
     "name": "stdout",
     "output_type": "stream",
     "text": [
      "=== PUERTA Z CON ESTADO INICIAL |1⟩ ===\n",
      "Estado inicial |1⟩:\n",
      "Amplitudes: [0.+0.j 1.+0.j]\n",
      "Estado: (1+0j)|1>\n",
      "--------------------------------------------------\n",
      "Estado después de aplicar Z:\n",
      "Amplitudes: [ 0.+0.j -1.+0.j]\n",
      "Estado: (-1+0j)|1>\n",
      "--------------------------------------------------\n"
     ]
    }
   ],
   "source": [
    "# Puerta Z con estado inicial |1⟩\n",
    "print(\"=== PUERTA Z CON ESTADO INICIAL |1⟩ ===\")\n",
    "\n",
    "# Programa con estado inicial |1⟩\n",
    "prog_z_1 = Program(X(0))  # X para crear |1⟩\n",
    "\n",
    "# Mostrar estado inicial |1⟩\n",
    "mostrar_estado(prog_z_1, \"Estado inicial |1⟩\")\n",
    "\n",
    "# Añadir puerta Z usando inst()\n",
    "prog_z_1.inst(Z(0))\n",
    "\n",
    "# Mostrar estado después de aplicar Z\n",
    "mostrar_estado(prog_z_1, \"Estado después de aplicar Z\")"
   ]
  },
  {
   "cell_type": "markdown",
   "id": "42e33396",
   "metadata": {},
   "source": [
    "## 3. Pruebas de la Puerta Y (Rotación Y)\n",
    "\n",
    "La puerta Y realiza una rotación de 180° alrededor del eje Y de la esfera de Bloch:\n",
    "- |0⟩ → i|1⟩\n",
    "- |1⟩ → -i|0⟩\n",
    "\n",
    "Combina cambio de estado y fase."
   ]
  },
  {
   "cell_type": "code",
   "execution_count": 10,
   "id": "0272ecc2",
   "metadata": {},
   "outputs": [
    {
     "name": "stdout",
     "output_type": "stream",
     "text": [
      "=== PUERTA Y CON ESTADO INICIAL |0⟩ ===\n",
      "Estado inicial |0⟩:\n",
      "Amplitudes: [1.+0.j 0.+0.j]\n",
      "Estado: (1+0j)|0>\n",
      "--------------------------------------------------\n",
      "Estado después de aplicar Y:\n",
      "Amplitudes: [0.+0.j 0.+1.j]\n",
      "Estado: 1j|1>\n",
      "--------------------------------------------------\n"
     ]
    }
   ],
   "source": [
    "# Puerta Y con estado inicial |0⟩\n",
    "print(\"=== PUERTA Y CON ESTADO INICIAL |0⟩ ===\")\n",
    "\n",
    "# Programa con estado inicial |0⟩\n",
    "prog_y_0 = Program(I(0))\n",
    "\n",
    "# Mostrar estado inicial\n",
    "mostrar_estado(prog_y_0, \"Estado inicial |0⟩\")\n",
    "\n",
    "# Añadir puerta Y usando inst()\n",
    "prog_y_0.inst(Y(0))\n",
    "\n",
    "# Mostrar estado después de aplicar Y\n",
    "mostrar_estado(prog_y_0, \"Estado después de aplicar Y\")"
   ]
  },
  {
   "cell_type": "code",
   "execution_count": 11,
   "id": "0a139d24",
   "metadata": {},
   "outputs": [
    {
     "name": "stdout",
     "output_type": "stream",
     "text": [
      "=== PUERTA Y CON ESTADO INICIAL |1⟩ ===\n",
      "Estado inicial |1⟩:\n",
      "Amplitudes: [0.+0.j 1.+0.j]\n",
      "Estado: (1+0j)|1>\n",
      "--------------------------------------------------\n",
      "Estado después de aplicar Y:\n",
      "Amplitudes: [0.-1.j 0.+0.j]\n",
      "Estado: -1j|0>\n",
      "--------------------------------------------------\n"
     ]
    }
   ],
   "source": [
    "# Puerta Y con estado inicial |1⟩\n",
    "print(\"=== PUERTA Y CON ESTADO INICIAL |1⟩ ===\")\n",
    "\n",
    "# Programa con estado inicial |1⟩\n",
    "prog_y_1 = Program(X(0))  # X para crear |1⟩\n",
    "\n",
    "# Mostrar estado inicial |1⟩\n",
    "mostrar_estado(prog_y_1, \"Estado inicial |1⟩\")\n",
    "\n",
    "# Añadir puerta Y usando inst()\n",
    "prog_y_1.inst(Y(0))\n",
    "\n",
    "# Mostrar estado después de aplicar Y\n",
    "mostrar_estado(prog_y_1, \"Estado después de aplicar Y\")"
   ]
  },
  {
   "cell_type": "markdown",
   "id": "2ec1e637",
   "metadata": {},
   "source": [
    "## 4. Construcción de la Puerta Y usando X y Z\n",
    "\n",
    "La puerta Y se puede construir como una combinación de las puertas X y Z:\n",
    "**Y = i * X * Z**\n",
    "\n",
    "Esto se debe a la relación matemática: Y = iXZ en las matrices de Pauli."
   ]
  },
  {
   "cell_type": "code",
   "execution_count": 12,
   "id": "f6f87bba",
   "metadata": {},
   "outputs": [
    {
     "name": "stdout",
     "output_type": "stream",
     "text": [
      "=== CONSTRUCCIÓN DE Y = iXZ CON ESTADO INICIAL |0⟩ ===\n",
      "Estado inicial |0⟩:\n",
      "Amplitudes: [1.+0.j 0.+0.j]\n",
      "Estado: (1+0j)|0>\n",
      "--------------------------------------------------\n",
      "Después de aplicar Z:\n",
      "Amplitudes: [1.+0.j 0.+0.j]\n",
      "Estado: (1+0j)|0>\n",
      "--------------------------------------------------\n",
      "Después de aplicar X (XZ aplicado):\n",
      "Amplitudes: [0.+0.j 1.+0.j]\n",
      "Estado: (1+0j)|1>\n",
      "--------------------------------------------------\n",
      "Nota: El factor 'i' se obtiene de la combinación matemática de las amplitudes\n",
      "Comparar este resultado con la aplicación directa de Y en la sección anterior\n"
     ]
    }
   ],
   "source": [
    "# Construcción de Y con X y Z - Estado inicial |0⟩\n",
    "print(\"=== CONSTRUCCIÓN DE Y = iXZ CON ESTADO INICIAL |0⟩ ===\")\n",
    "\n",
    "# Programa con estado inicial |0⟩\n",
    "prog_construir_y_0 = Program(I(0))\n",
    "\n",
    "# Mostrar estado inicial\n",
    "mostrar_estado(prog_construir_y_0, \"Estado inicial |0⟩\")\n",
    "\n",
    "# Aplicar Z primero\n",
    "prog_construir_y_0.inst(Z(0))\n",
    "mostrar_estado(prog_construir_y_0, \"Después de aplicar Z\")\n",
    "\n",
    "# Aplicar X después\n",
    "prog_construir_y_0.inst(X(0))\n",
    "mostrar_estado(prog_construir_y_0, \"Después de aplicar X (XZ aplicado)\")\n",
    "\n",
    "print(\"Nota: El factor 'i' se obtiene de la combinación matemática de las amplitudes\")\n",
    "print(\"Comparar este resultado con la aplicación directa de Y en la sección anterior\")"
   ]
  },
  {
   "cell_type": "code",
   "execution_count": 13,
   "id": "2445bc9d",
   "metadata": {},
   "outputs": [
    {
     "name": "stdout",
     "output_type": "stream",
     "text": [
      "=== CONSTRUCCIÓN DE Y = iXZ CON ESTADO INICIAL |1⟩ ===\n",
      "Estado inicial |1⟩:\n",
      "Amplitudes: [0.+0.j 1.+0.j]\n",
      "Estado: (1+0j)|1>\n",
      "--------------------------------------------------\n",
      "Después de aplicar Z:\n",
      "Amplitudes: [ 0.+0.j -1.+0.j]\n",
      "Estado: (-1+0j)|1>\n",
      "--------------------------------------------------\n",
      "Después de aplicar X (XZ aplicado):\n",
      "Amplitudes: [-1.+0.j  0.+0.j]\n",
      "Estado: (-1+0j)|0>\n",
      "--------------------------------------------------\n",
      "Nota: El factor 'i' aparece en las amplitudes complejas\n",
      "Comparar este resultado con la aplicación directa de Y en la sección anterior\n"
     ]
    }
   ],
   "source": [
    "# Construcción de Y con X y Z - Estado inicial |1⟩\n",
    "print(\"=== CONSTRUCCIÓN DE Y = iXZ CON ESTADO INICIAL |1⟩ ===\")\n",
    "\n",
    "# Programa con estado inicial |1⟩\n",
    "prog_construir_y_1 = Program(X(0))  # X para crear |1⟩\n",
    "\n",
    "# Mostrar estado inicial |1⟩\n",
    "mostrar_estado(prog_construir_y_1, \"Estado inicial |1⟩\")\n",
    "\n",
    "# Aplicar Z primero\n",
    "prog_construir_y_1.inst(Z(0))\n",
    "mostrar_estado(prog_construir_y_1, \"Después de aplicar Z\")\n",
    "\n",
    "# Aplicar X después\n",
    "prog_construir_y_1.inst(X(0))\n",
    "mostrar_estado(prog_construir_y_1, \"Después de aplicar X (XZ aplicado)\")\n",
    "\n",
    "print(\"Nota: El factor 'i' aparece en las amplitudes complejas\")\n",
    "print(\"Comparar este resultado con la aplicación directa de Y en la sección anterior\")"
   ]
  },
  {
   "cell_type": "markdown",
   "id": "931e958b",
   "metadata": {},
   "source": [
    "## 5. Análisis y Verificación de Resultados\n",
    "\n",
    "### Resumen de las transformaciones de las Puertas de Pauli:\n",
    "\n",
    "**Puerta X (NOT cuántica):**\n",
    "- |0⟩ → |1⟩\n",
    "- |1⟩ → |0⟩\n",
    "\n",
    "**Puerta Z (cambio de fase):**\n",
    "- |0⟩ → |0⟩ \n",
    "- |1⟩ → -|1⟩\n",
    "\n",
    "**Puerta Y (rotación Y):**\n",
    "- |0⟩ → i|1⟩\n",
    "- |1⟩ → -i|0⟩\n",
    "\n",
    "### Verificación matemática:\n",
    "La construcción Y = iXZ se verifica observando que las amplitudes complejas coinciden con la aplicación directa de la puerta Y."
   ]
  },
  {
   "cell_type": "code",
   "execution_count": 14,
   "id": "945d58ec",
   "metadata": {},
   "outputs": [
    {
     "name": "stdout",
     "output_type": "stream",
     "text": [
      "=== VERIFICACIÓN NUMÉRICA ===\n",
      "Y aplicado directamente a |0⟩:\n",
      "Amplitudes: [0.+0.j 0.+1.j]\n",
      "\n",
      "XZ aplicado a |0⟩ (construcción de Y):\n",
      "Amplitudes: [0.+0.j 1.+0.j]\n",
      "\n",
      "Número imaginario en Python: 1j\n",
      "Tipo: <class 'complex'>\n",
      "\n",
      "¡Las amplitudes muestran la misma relación matemática!\n",
      "La diferencia está en el factor de fase global 'i', que es equivalente cuánticamente.\n"
     ]
    }
   ],
   "source": [
    "# Verificación numérica: comparar Y directo vs construcción XZ\n",
    "print(\"=== VERIFICACIÓN NUMÉRICA ===\")\n",
    "\n",
    "# Aplicación directa de Y a |0⟩\n",
    "prog_y_directo = Program(I(0))\n",
    "prog_y_directo.inst(Y(0))\n",
    "wf_y_directo = wf_sim.wavefunction(prog_y_directo)\n",
    "\n",
    "# Construcción XZ a |0⟩\n",
    "prog_xz_construccion = Program(I(0))\n",
    "prog_xz_construccion.inst(Z(0))\n",
    "prog_xz_construccion.inst(X(0))\n",
    "wf_xz_construccion = wf_sim.wavefunction(prog_xz_construccion)\n",
    "\n",
    "print(\"Y aplicado directamente a |0⟩:\")\n",
    "print(f\"Amplitudes: {wf_y_directo.amplitudes}\")\n",
    "print(\"\\nXZ aplicado a |0⟩ (construcción de Y):\")\n",
    "print(f\"Amplitudes: {wf_xz_construccion.amplitudes}\")\n",
    "\n",
    "# Mostrar la relación con el número imaginario 1j\n",
    "print(f\"\\nNúmero imaginario en Python: {1j}\")\n",
    "print(f\"Tipo: {type(1j)}\")\n",
    "\n",
    "print(\"\\n¡Las amplitudes muestran la misma relación matemática!\")\n",
    "print(\"La diferencia está en el factor de fase global 'i', que es equivalente cuánticamente.\")"
   ]
  }
 ],
 "metadata": {
  "kernelspec": {
   "display_name": "cc",
   "language": "python",
   "name": "python3"
  },
  "language_info": {
   "codemirror_mode": {
    "name": "ipython",
    "version": 3
   },
   "file_extension": ".py",
   "mimetype": "text/x-python",
   "name": "python",
   "nbconvert_exporter": "python",
   "pygments_lexer": "ipython3",
   "version": "3.11.5"
  }
 },
 "nbformat": 4,
 "nbformat_minor": 5
}
