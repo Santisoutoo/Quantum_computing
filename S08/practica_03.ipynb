{
 "cells": [
  {
   "cell_type": "markdown",
   "id": "0a538578",
   "metadata": {},
   "source": [
    "# Práctica puertas cuánticas"
   ]
  },
  {
   "cell_type": "markdown",
   "id": "3573de55",
   "metadata": {},
   "source": [
    "El  objetivo  de  la  presente  actividad  es  entender  el  funcionamiento  de  la  superposición  y  las  puertas  de \n",
    "control."
   ]
  },
  {
   "cell_type": "code",
   "execution_count": 95,
   "id": "bc3cd6f0",
   "metadata": {},
   "outputs": [],
   "source": [
    "from pyquil import get_qc, Program\n",
    "from pyquil.gates import I, H, X, MEASURE\n",
    "from pyquil.quilbase import Declare"
   ]
  },
  {
   "cell_type": "code",
   "execution_count": 96,
   "id": "afb6d674",
   "metadata": {},
   "outputs": [],
   "source": [
    "def es_ganador(resultado, tiradas):\n",
    "    jugadas_ganadas_j1 = 0\n",
    "    jugadas_ganadas_j2 = 0\n",
    "    empates = 0\n",
    "    \n",
    "    for i in resultado:\n",
    "        # Jugador 1: cara(0), Jugador 2: cruz(1)\n",
    "        if i[0] == 0 and i[1] == 1: \n",
    "            jugadas_ganadas_j1 += 1\n",
    "        # Jugador 1: cruz(1), Jugador 2: cara(0)\n",
    "        elif i[0] == 1 and i[1] == 0:  \n",
    "            jugadas_ganadas_j2 += 1\n",
    "        # Ambos sacan lo mismo\n",
    "        else:  \n",
    "            empates += 1\n",
    "    \n",
    "    print(f\"Resultados después de {tiradas} tiradas:\")\n",
    "    print(f\"  Jugador 1: {jugadas_ganadas_j1} victorias\")\n",
    "    print(f\"  Jugador 2: {jugadas_ganadas_j2} victorias\")\n",
    "    print(f\"  Empates: {empates}\")\n",
    "    print()\n",
    "    \n",
    "    if jugadas_ganadas_j1 > jugadas_ganadas_j2:\n",
    "        print(f\"Jugador 1 GANA con {jugadas_ganadas_j1} puntos\")\n",
    "    elif jugadas_ganadas_j2 > jugadas_ganadas_j1:\n",
    "        print(f\"Jugador 2 GANA con {jugadas_ganadas_j2} puntos\")\n",
    "    else:\n",
    "        print(f\"EMPATE: ambos con {jugadas_ganadas_j1} puntos\")"
   ]
  },
  {
   "cell_type": "markdown",
   "id": "3d44767a",
   "metadata": {},
   "source": [
    "## Parte 1\n",
    "\n",
    "Simular el comportamiento aleatorio de ambos jugadores y comprobar quién vence en 50 tiradas. "
   ]
  },
  {
   "cell_type": "code",
   "execution_count": 97,
   "id": "1276d6e8",
   "metadata": {},
   "outputs": [
    {
     "name": "stdout",
     "output_type": "stream",
     "text": [
      "Resultados después de 50 tiradas:\n",
      "  Jugador 1: 10 victorias\n",
      "  Jugador 2: 20 victorias\n",
      "  Empates: 20\n",
      "\n",
      "Jugador 2 GANA con 20 puntos\n"
     ]
    }
   ],
   "source": [
    "prog = Program(\n",
    "    Declare('ro', 'BIT', 2),\n",
    "    I(0), I(1),\n",
    "    H(0), H(1),\n",
    "    MEASURE(0, ('ro', 0)),\n",
    "    MEASURE(1, ('ro', 1))\n",
    ").wrap_in_numshots_loop(50)\n",
    "\n",
    "qvm = get_qc('2q-qvm')\n",
    "result = qvm.run(qvm.compile(prog)).get_register_map().get(\"ro\")\n",
    "\n",
    "es_ganador(\n",
    "    resultado= result,\n",
    "    tiradas=50\n",
    ")"
   ]
  },
  {
   "cell_type": "markdown",
   "id": "794bf41d",
   "metadata": {},
   "source": [
    "## Parte 2\n",
    "\n",
    "La segunda parte es donde el primer jugador será un tramposo. El segundo jugador debe seguir lanzando \n",
    "aleatoriamente la moneda, pero el primer jugador busca garantizarse ganar o empatar siempre, por lo que \n",
    "para su moneda debe salir siempre cara, partiendo de un estado inicial aleatorio. Buscamos construir el \n",
    "circuito y comprobar de nuevo quién vence en 50 tiradas (recordad, el segundo jugador no debería vencer \n",
    "nunca).\n"
   ]
  },
  {
   "cell_type": "code",
   "execution_count": 98,
   "id": "32cc8ad0",
   "metadata": {},
   "outputs": [
    {
     "name": "stdout",
     "output_type": "stream",
     "text": [
      "Resultados después de 50 tiradas:\n",
      "  Jugador 1: 22 victorias\n",
      "  Jugador 2: 0 victorias\n",
      "  Empates: 28\n",
      "\n",
      "Jugador 1 GANA con 22 puntos\n"
     ]
    }
   ],
   "source": [
    "prog = Program(\n",
    "    Declare('ro', 'BIT', 2),\n",
    "    I(0),H(1),\n",
    "    MEASURE(0, ('ro', 0)),  \n",
    "    MEASURE(1, ('ro', 1))\n",
    ").wrap_in_numshots_loop(50)\n",
    "\n",
    "qvm = get_qc('2q-qvm')\n",
    "result = qvm.run(qvm.compile(prog)).get_register_map().get(\"ro\")\n",
    "\n",
    "es_ganador(resultado=result, tiradas=50)"
   ]
  },
  {
   "cell_type": "markdown",
   "id": "7ff098d8",
   "metadata": {},
   "source": [
    "## Parte 3\n",
    "\n",
    "La última parte de la práctica incluye un tercer jugador. Este tercer jugador, que no está de acuerdo con las \n",
    "trampas realizadas en las partidas anteriores, busca el resultado contrario al segundo jugador, es decir, que \n",
    "siempre salga cruz. ¿Cómo puede garantizar este resultado partiendo del circuito resultante de la segunda \n",
    "parte?"
   ]
  },
  {
   "cell_type": "code",
   "execution_count": null,
   "id": "d6c53648",
   "metadata": {},
   "outputs": [],
   "source": [
    "def es_ganador_3_jugadores(resultado, tiradas):\n",
    "    victorias_j1 = 0\n",
    "    empates = 0\n",
    "    \n",
    "    for i in resultado:        \n",
    "        if i[0] == 0 and i[1] == 1 and i[2] == 1:  \n",
    "            victorias_j1 += 1\n",
    "        elif i[0] == 1 and i[1] == 0 and i[2] == 0:  \n",
    "            victorias_j1 += 1\n",
    "        elif i[1] == 0 and i[0] == 0 and i[2] == 1:  \n",
    "            empates += 1  \n",
    "        elif i[1] == 1 and i[0] == 0 and i[2] == 1:  \n",
    "            empates += 1\n",
    "        else:\n",
    "            empates += 1\n",
    "    \n",
    "    # Contar por jugador\n",
    "    j1_caras = sum([1 for i in resultado if i[0] == 0])\n",
    "    j1_cruces = sum([1 for i in resultado if i[0] == 1])\n",
    "    j2_caras = sum([1 for i in resultado if i[1] == 0])\n",
    "    j2_cruces = sum([1 for i in resultado if i[1] == 1])\n",
    "    j3_caras = sum([1 for i in resultado if i[2] == 0])\n",
    "    j3_cruces = sum([1 for i in resultado if i[2] == 1])\n",
    "    \n",
    "    print(f\"  Jugador 1: {j1_caras} caras, {j1_cruces} cruces\")\n",
    "    print(f\"  Jugador 2: {j2_caras} caras, {j2_cruces} cruces\")\n",
    "    print(f\"  Jugador 3: {j3_caras} caras, {j3_cruces} cruces\\n\")\n",
    "    \n",
    "    # Verificación de trampas\n",
    "    print(\"Verifar trampas\")\n",
    "    if j1_caras == tiradas:\n",
    "        print(\"Jugador 1 SIEMPRE saca cara\")\n",
    "    if j3_cruces == tiradas:\n",
    "        print(\"Jugador 3 SIEMPRE saca cruz\")\n",
    "    print(f\"Jugador 2 es honesto: {j2_caras/tiradas*100:.0f}% caras, {j2_cruces/tiradas*100:.0f}% cruces\")"
   ]
  },
  {
   "cell_type": "code",
   "execution_count": 145,
   "id": "eb69f556",
   "metadata": {},
   "outputs": [
    {
     "name": "stdout",
     "output_type": "stream",
     "text": [
      "  Jugador 1: 50 caras, 0 cruces\n",
      "  Jugador 2: 24 caras, 26 cruces\n",
      "  Jugador 3: 0 caras, 50 cruces\n",
      "\n",
      "Verifar trampas\n",
      "Jugador 1 SIEMPRE saca cara (trampa exitosa)\n",
      "Jugador 3 SIEMPRE saca cruz (trampa exitosa)\n",
      "Jugador 2 es honesto: 48% caras, 52% cruces\n"
     ]
    }
   ],
   "source": [
    "prog = Program(\n",
    "    Declare('ro', 'BIT', 3),\n",
    "    \n",
    "    I(0),H(1),X(2),              \n",
    "\n",
    "    MEASURE(0, ('ro', 0)),\n",
    "    MEASURE(1, ('ro', 1)),\n",
    "    MEASURE(2, ('ro', 2)),\n",
    ").wrap_in_numshots_loop(50)\n",
    "\n",
    "qvm = get_qc('3q-qvm')  # Ahora necesitamos 3 qubits\n",
    "result = qvm.run(qvm.compile(prog)).get_register_map().get(\"ro\")\n",
    "\n",
    "es_ganador_3_jugadores(resultado=result, tiradas=50)"
   ]
  }
 ],
 "metadata": {
  "kernelspec": {
   "display_name": "computacion-cuantica-s07",
   "language": "python",
   "name": "python3"
  },
  "language_info": {
   "codemirror_mode": {
    "name": "ipython",
    "version": 3
   },
   "file_extension": ".py",
   "mimetype": "text/x-python",
   "name": "python",
   "nbconvert_exporter": "python",
   "pygments_lexer": "ipython3",
   "version": "3.11.13"
  }
 },
 "nbformat": 4,
 "nbformat_minor": 5
}
